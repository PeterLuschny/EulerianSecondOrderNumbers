{
 "cells": [
  {
   "cell_type": "markdown",
   "metadata": {},
   "source": [
    "<h1 style='color:#5E7AFF'>Second order Eulerian numbers</h1> \n",
    "<h3 style='color:#5E7AFF'>A companion to <a href=\"https://oeis.org/A340556\">A340556</a></h3>\n",
    "<h4 style='color:#708090'>Peter Luschny, Feb. 2021</h4>\n",
    "<p>You can download this SageMath notebook from <a href='https://github.com/PeterLuschny/EulerianSecondOrderNumbers'>GitHub</a>.</p>\n"
   ]
  },
  {
   "cell_type": "markdown",
   "metadata": {},
   "source": [
    "<p style=\"font-size:18px;color:blue;line-height:22px\">Indexing the second-order Eulerian numbers comes in three flavors: A008517 (following Riordan and Comtet), A201637 (following Graham, Knuth, and Patashnik) and A340556, extending the definition of Gessel and Stanley. Note that we use the definition A340556.</p> "
   ]
  },
  {
   "cell_type": "markdown",
   "metadata": {},
   "source": [
    "<h2 style='color:#5E7AFF;margin-bottom:16px'>Notations</h2>\n",
    "\n",
    "<p>$\\left\\langle\\!\\! \\left\\langle n\\atop  k\\right\\rangle\\!\\! \\right\\rangle $ <a href=\"https://oeis.org/A340556\">A340556</a>\n",
    "second-order Eulerian numbers</p>\n",
    "<p>$\\left\\langle \\! \\left\\langle x \\right\\rangle \\! \\right\\rangle _n $ second-order Eulerian polynomials</p>\n",
    "<p>$\\left[ n\\atop  k\\right]$ <a href=\"https://oeis.org/A132393\">A132393</a> Stirling cycle numbers (unsigned first kind)</p>\n",
    "<p>$\\left\\{ n\\atop  k \\right\\} $ <a href=\"https://oeis.org/A048993\">A048993</a> Stirling set numbers (signed second kind)</p>   \n",
    "<p>$\\left[ \\! \\left[ n\\atop  k\\right] \\! \\right] $ (<a href=\"https://oeis.org/A008306\">A008306</a>, <a href=\"https://oeis.org/A106828\">A106828</a>)\n",
    "associated Stirling cycle numbers (see def. below) </p>\n",
    "<p>$\\left\\{ \\!\\! \\left\\{ n\\atop  k\\right\\} \\!\\! \\right\\} $ (<a href=\"https://oeis.org/A008299\">A008299</a>, <a href=\"https://oeis.org/A137375\">A137375</a>) associated Stirling set numbers (see def. below)</p>\n",
    "<p>$\\operatorname{W}_{n,k}$ <a href=\"https://oeis.org/A269939\">A269939</a> Ward numbers </p>\n",
    "<p>$\\operatorname{W}_{n}(x)$ Ward polynomials</p>"
   ]
  },
  {
   "cell_type": "markdown",
   "metadata": {},
   "source": [
    "<h2 style='color:#5E7AFF;margin-bottom:16px'>Formula <span style='color:orange'>1</span></h2>\n",
    "$$\\left\\langle\\!\\! \\left\\langle n\\atop  k\\right\\rangle\\!\\! \\right\\rangle  = 0 \\ \\ (n \\lt 0),\\ \n",
    "\\left\\langle\\!\\! \\left\\langle n\\atop  k\\right\\rangle\\!\\! \\right\\rangle  = k^n \\ \\ (k = 0), \\\\ \n",
    "\\left\\langle\\!\\! \\left\\langle n\\atop  k\\right\\rangle\\!\\! \\right\\rangle  \\ = \\ k\\, \n",
    "\\left\\langle\\!\\! \\left\\langle n-1\\atop  k\\right\\rangle\\!\\! \\right\\rangle  + \n",
    "(2n-k)\\, \\left\\langle\\!\\! \\left\\langle n-1\\atop  k-1\\right\\rangle\\!\\! \\right\\rangle $$"
   ]
  },
  {
   "cell_type": "code",
   "execution_count": 1,
   "metadata": {},
   "outputs": [
    {
     "name": "stdout",
     "output_type": "stream",
     "text": [
      "[1]\n",
      "[0, 1]\n",
      "[0, 1, 2]\n",
      "[0, 1, 8, 6]\n",
      "[0, 1, 22, 58, 24]\n",
      "[0, 1, 52, 328, 444, 120]\n",
      "[0, 1, 114, 1452, 4400, 3708, 720]\n",
      "[0, 1, 240, 5610, 32120, 58140, 33984, 5040]\n",
      "[0, 1, 494, 19950, 195800, 644020, 785304, 341136, 40320]\n",
      "[0, 1, 1004, 67260, 1062500, 5765500, 12440064, 11026296, 3733920, 362880]\n"
     ]
    }
   ],
   "source": [
    "@cached_function\n",
    "def E2(n, k):\n",
    "    if n < 0: return 0\n",
    "    if k == 0: return k^n\n",
    "    return k * E2(n - 1, k) + (2*n - k) * E2(n - 1, k - 1)\n",
    "\n",
    "\n",
    "for n in range(10):\n",
    "    print([E2(n, k) for k in (0..n)])"
   ]
  },
  {
   "cell_type": "markdown",
   "metadata": {},
   "source": [
    "<h2 style='color:#5E7AFF;margin-bottom:16px'>Formula <span style='color:orange'>2</span></h2>\n",
    "$$\\left\\langle \\! \\left\\langle x \\right\\rangle \\! \\right\\rangle _n =\n",
    "\\sum_{k=0}^{n} \\left\\langle\\!\\! \\left\\langle n\\atop  k\\right\\rangle\\!\\! \\right\\rangle  x^k $$"
   ]
  },
  {
   "cell_type": "code",
   "execution_count": 2,
   "metadata": {},
   "outputs": [
    {
     "name": "stdout",
     "output_type": "stream",
     "text": [
      "1\n",
      "x\n",
      "2*x^2 + x\n",
      "6*x^3 + 8*x^2 + x\n",
      "24*x^4 + 58*x^3 + 22*x^2 + x\n",
      "120*x^5 + 444*x^4 + 328*x^3 + 52*x^2 + x\n",
      "720*x^6 + 3708*x^5 + 4400*x^4 + 1452*x^3 + 114*x^2 + x\n",
      "5040*x^7 + 33984*x^6 + 58140*x^5 + 32120*x^4 + 5610*x^3 + 240*x^2 + x\n"
     ]
    }
   ],
   "source": [
    "# row polynomials:\n",
    "def E2poly(n):\n",
    "    return sum(E2(n, k) * x^k for k in (0..n)) \n",
    "\n",
    "\n",
    "for n in range(8):\n",
    "    print(E2poly(n))"
   ]
  },
  {
   "cell_type": "markdown",
   "metadata": {},
   "source": [
    "<h2 style='color:#5E7AFF;margin-bottom:16px'>Formula <span style='color:orange'>3</span></h2>\n",
    "$$ \\left\\langle \\! \\left\\langle x \\right\\rangle \\! \\right\\rangle _n =\n",
    "x\\,(x-1)^{2n} \\, \\left(\\frac{ \\left\\langle \\! \\left\\langle x \\right\\rangle \\! \\right\\rangle _{n-1}}{(1-x)^{2n-1}} \\right)'\n",
    "\\quad (n \\ge 1). $$"
   ]
  },
  {
   "cell_type": "code",
   "execution_count": 3,
   "metadata": {},
   "outputs": [
    {
     "name": "stdout",
     "output_type": "stream",
     "text": [
      "1\n",
      "x\n",
      "2*x^2 + x\n",
      "6*x^3 + 8*x^2 + x\n",
      "24*x^4 + 58*x^3 + 22*x^2 + x\n",
      "120*x^5 + 444*x^4 + 328*x^3 + 52*x^2 + x\n",
      "720*x^6 + 3708*x^5 + 4400*x^4 + 1452*x^3 + 114*x^2 + x\n",
      "5040*x^7 + 33984*x^6 + 58140*x^5 + 32120*x^4 + 5610*x^3 + 240*x^2 + x\n",
      "[1]\n",
      "[0, 1]\n",
      "[0, 1, 2]\n",
      "[0, 1, 8, 6]\n",
      "[0, 1, 22, 58, 24]\n",
      "[0, 1, 52, 328, 444, 120]\n",
      "[0, 1, 114, 1452, 4400, 3708, 720]\n",
      "[0, 1, 240, 5610, 32120, 58140, 33984, 5040]\n"
     ]
    }
   ],
   "source": [
    "@cached_function\n",
    "def e2poly(n):\n",
    "    R.<x> = PolynomialRing(ZZ)\n",
    "    if n == 0: return R(1)\n",
    "    return R(expand(x * (x - 1)^(2 * n) * derivative((1 - x)^(1 - 2 * n) * e2poly(n - 1))))\n",
    "\n",
    "\n",
    "for n in range(8):\n",
    "    print(e2poly(n))\n",
    "    \n",
    "for n in (0..7):\n",
    "    print(e2poly(n).coefficients(sparse=False))    "
   ]
  },
  {
   "cell_type": "code",
   "execution_count": 4,
   "metadata": {},
   "outputs": [],
   "source": [
    "# plot([e2poly(n) for n in range(6)], color=['blue','red'], \n",
    "#     legend_label='E2poly', ymin=-1, ymax=2)"
   ]
  },
  {
   "cell_type": "markdown",
   "metadata": {},
   "source": [
    "<h2 style='color:#5E7AFF;margin-bottom:16px'>Formula <span style='color:orange'>4</span></h2>\n",
    "$$ \\left\\langle\\! \\left\\langle x \\right\\rangle\\! \\right\\rangle_n  = (n+1)!\\, (1-t)^{2n + 1}\\, [x^{n+1}]\\, \\operatorname{Reversion}_{x}(x + t - t \\exp(x)) \\quad (n \\ge 0)$$"
   ]
  },
  {
   "cell_type": "code",
   "execution_count": 5,
   "metadata": {},
   "outputs": [],
   "source": [
    "# The compositional inverse with respect to x of x + t - t*exp(x).\n",
    "\n",
    "# Mathematica:\n",
    "# S := InverseSeries[Series[x + t - t Exp[x], {x, 0, 7}], x];\n",
    "# Table[(n+1)! (1-t)^(2n+1) Coefficient[S, x, n+1], {n, 0, 6}] "
   ]
  },
  {
   "cell_type": "markdown",
   "metadata": {},
   "source": [
    "<h2 style='color:#5E7AFF;margin-bottom:16px'>Formula <span style='color:orange'>5</span></h2>\n",
    "$$\\operatorname{Egf}(n) = (1 - x)^{2n + 1} \n",
    "\\sum_{k=0}^{n} \\frac{(x\\,\\exp(-x))^{k}\\ k^{n+k}}{k!} \\\\\n",
    "\\left\\langle\\!\\! \\left\\langle n\\atop  k\\right\\rangle\\!\\! \\right\\rangle\n",
    "= [x^k]\\ \\operatorname{Egf}(n) \\quad (n > 0) $$"
   ]
  },
  {
   "cell_type": "code",
   "execution_count": 6,
   "metadata": {},
   "outputs": [
    {
     "name": "stdout",
     "output_type": "stream",
     "text": [
      "[1]\n",
      "[0, 1]\n",
      "[0, 1, 2]\n",
      "[0, 1, 8, 6]\n",
      "[0, 1, 22, 58, 24]\n",
      "[0, 1, 52, 328, 444, 120]\n",
      "[0, 1, 114, 1452, 4400, 3708, 720]\n",
      "[0, 1, 240, 5610, 32120, 58140, 33984, 5040]\n"
     ]
    }
   ],
   "source": [
    "var('x, k')\n",
    "\n",
    "def Egf(n):\n",
    "    if n == 0: return 1\n",
    "    s = sum((x * exp(-x))^k * k^(n + k) / factorial(k) for k in (0..n))\n",
    "    return (1 - x)^(2 * n + 1) * s\n",
    "\n",
    "\n",
    "def E2row(n):\n",
    "    return taylor(Egf(n), x, 0, n).list()\n",
    "\n",
    "for n in (0..7):\n",
    "    print(E2row(n))    "
   ]
  },
  {
   "cell_type": "markdown",
   "metadata": {},
   "source": [
    "<h2 style='color:#5E7AFF;margin-bottom:16px'>Formula <span style='color:orange'>6</span></h2>\n",
    "$$\\left\\langle\\!\\! \\left\\langle n\\atop  k\\right\\rangle\\!\\! \\right\\rangle \\ = \n",
    "\\ \\sum \\limits_{j\\,=\\,0}^{n-k} (-1)^j \\binom{2n+1}{j}\\genfrac[]{0pt}{}{n+m}{m} $$\n",
    "<p style= \"text-align:center;\"> where $m = n-k-j+1$. </p>"
   ]
  },
  {
   "cell_type": "code",
   "execution_count": 7,
   "metadata": {},
   "outputs": [
    {
     "name": "stdout",
     "output_type": "stream",
     "text": [
      "[1]\n",
      "[0, 1]\n",
      "[0, 1, 2]\n",
      "[0, 1, 8, 6]\n",
      "[0, 1, 22, 58, 24]\n",
      "[0, 1, 52, 328, 444, 120]\n",
      "[0, 1, 114, 1452, 4400, 3708, 720]\n",
      "[0, 1, 240, 5610, 32120, 58140, 33984, 5040]\n",
      "[0, 1, 494, 19950, 195800, 644020, 785304, 341136, 40320]\n",
      "[0, 1, 1004, 67260, 1062500, 5765500, 12440064, 11026296, 3733920, 362880]\n"
     ]
    }
   ],
   "source": [
    "# We denote alternative implementations of E2(n,k) by e2(n,k) (so we can test E2 = e2).\n",
    "\n",
    "def e2(n, k):\n",
    "    return sum((-1)^j * binomial(2 * n + 1, j) * stirling_number1(2 * n - k - j + 1, n - k - j + 1) \n",
    "           for j in (0..n-k))\n",
    "\n",
    "\n",
    "for n in range(10):\n",
    "    print([e2(n, k) for k in (0..n)])\n",
    "    #print([E2(n, k) for k in (0..n)])"
   ]
  },
  {
   "cell_type": "markdown",
   "metadata": {},
   "source": [
    "<h2 style='color:#5E7AFF;margin-bottom:16px'>Formula <span style='color:orange'>7</span></h2>\n",
    "$$\\left\\langle\\!\\! \\left\\langle n\\atop  k\\right\\rangle\\!\\! \\right\\rangle \\ = \n",
    "\\ \\sum \\limits_{j\\,=\\,0}^{k} (-1)^{k-j}\\binom{2n+1}{k-j}\n",
    "\\genfrac\\{\\}{0pt}{}{n+j}{j} $$"
   ]
  },
  {
   "cell_type": "code",
   "execution_count": 8,
   "metadata": {},
   "outputs": [
    {
     "name": "stdout",
     "output_type": "stream",
     "text": [
      "[1]\n",
      "[0, 1]\n",
      "[0, 1, 2]\n",
      "[0, 1, 8, 6]\n",
      "[0, 1, 22, 58, 24]\n",
      "[0, 1, 52, 328, 444, 120]\n",
      "[0, 1, 114, 1452, 4400, 3708, 720]\n",
      "[0, 1, 240, 5610, 32120, 58140, 33984, 5040]\n",
      "[0, 1, 494, 19950, 195800, 644020, 785304, 341136, 40320]\n",
      "[0, 1, 1004, 67260, 1062500, 5765500, 12440064, 11026296, 3733920, 362880]\n"
     ]
    }
   ],
   "source": [
    "def e2(n, k):\n",
    "    return sum((-1)^(k - j) * binomial(2*n + 1, k - j)*stirling_number2(n + j, j)\n",
    "           for j in (0..k))\n",
    "\n",
    "\n",
    "for n in range(10):\n",
    "    print([e2(n, k) for k in (0..n)])"
   ]
  },
  {
   "cell_type": "markdown",
   "metadata": {},
   "source": [
    "<h2 style='color:#5E7AFF;margin-bottom:16px'>Formula <span style='color:orange'>8</span></h2>\n",
    "$$\\sum \\limits_{j\\,=\\,0}^{k} (-1)^{k-j}\\binom{2n+1}{k-j}{n+j \\brace j} = \\sum \\limits_{j\\,=\\,0}^{n-k} (-1)^j \\binom{2n+1}{j}{n+m \\brack m}, $$\n",
    "<p style= \"text-align:center;\"> where $m = n-k-j+1$. </p>\n",
    "<p> </p>\n",
    "<p>A proof of this identity was given by Marko Riedel at\n",
    "<a href=\"https://math.stackexchange.com/q/4036199\">MSE</a>.</p>"
   ]
  },
  {
   "cell_type": "markdown",
   "metadata": {},
   "source": [
    "<h2 style='color:#5E7AFF;margin-bottom:16px'>Formula <span style='color:orange'>9</span></h2>\n",
    "$$ \\left[ n\\atop  n-k\\right] = \\sum_{j=0}^k \\binom{n + j - 1}{2k} \n",
    "\\left\\langle\\!\\! \\left\\langle k\\atop  j\\right\\rangle\\!\\! \\right\\rangle $$"
   ]
  },
  {
   "cell_type": "code",
   "execution_count": 9,
   "metadata": {},
   "outputs": [
    {
     "name": "stdout",
     "output_type": "stream",
     "text": [
      "[1]\n",
      "[1, 0]\n",
      "[1, 1, 0]\n",
      "[1, 3, 2, 0]\n",
      "[1, 6, 11, 6, 0]\n",
      "[1, 10, 35, 50, 24, 0]\n",
      "[1, 15, 85, 225, 274, 120, 0]\n",
      "[1, 21, 175, 735, 1624, 1764, 720, 0]\n",
      "[1, 28, 322, 1960, 6769, 13132, 13068, 5040, 0]\n",
      "[1, 36, 546, 4536, 22449, 67284, 118124, 109584, 40320, 0]\n"
     ]
    }
   ],
   "source": [
    "def rhs(n, k): \n",
    "    return sum(E2(k, j) * binomial(n + j - 1, 2 * k) for j in (0..k))\n",
    "\n",
    "\n",
    "for n in range(10):\n",
    "    print([rhs(n, k) for k in (0..n)])\n",
    "    #print([stirling_number1(n, n - k) for k in (0..n)])"
   ]
  },
  {
   "cell_type": "markdown",
   "metadata": {},
   "source": [
    "<h2 style='color:#5E7AFF;margin-bottom:16px'>Formula <span style='color:orange'>10</span></h2>\n",
    "$$ \\genfrac\\{\\}{0pt}{}{n}{n-k} = \n",
    "\\sum_{j=0}^k \\binom{n + k - j}{2k} \n",
    "\\left\\langle\\!\\! \\left\\langle k\\atop  j\\right\\rangle\\!\\! \\right\\rangle $$"
   ]
  },
  {
   "cell_type": "code",
   "execution_count": 10,
   "metadata": {},
   "outputs": [
    {
     "name": "stdout",
     "output_type": "stream",
     "text": [
      "[1]\n",
      "[1, 0]\n",
      "[1, 1, 0]\n",
      "[1, 3, 1, 0]\n",
      "[1, 6, 7, 1, 0]\n",
      "[1, 10, 25, 15, 1, 0]\n",
      "[1, 15, 65, 90, 31, 1, 0]\n",
      "[1, 21, 140, 350, 301, 63, 1, 0]\n",
      "[1, 28, 266, 1050, 1701, 966, 127, 1, 0]\n",
      "[1, 36, 462, 2646, 6951, 7770, 3025, 255, 1, 0]\n"
     ]
    }
   ],
   "source": [
    "def rhs(n, k):\n",
    "    return sum(binomial(n + k - j, 2*k) * E2(k, j) for j in (0..k))\n",
    "\n",
    "\n",
    "for n in range(10):\n",
    "    print([rhs(n, k) for k in (0..n)])\n",
    "    #print([stirling_number2(n, n - k) for k in (0..n)])"
   ]
  },
  {
   "cell_type": "markdown",
   "metadata": {},
   "source": [
    "<h2 style='color:#5E7AFF;margin-bottom:16px'>Formula <span style='color:orange'>11</span></h2>\n",
    "$$ \\left| n\\atop  k\\right| = \\sum_{j=0}^k \\left( \\binom{n + j - 1}{2k} - \\binom{n + k - j}{2k} \\right) \\left\\langle\\!\\! \\left\\langle k\\atop  j\\right\\rangle\\!\\! \\right\\rangle $$"
   ]
  },
  {
   "cell_type": "markdown",
   "metadata": {},
   "source": [
    "$$ \\left[ n\\atop k\\right] -  \\left\\{ n\\atop  k\\right\\} = \\left| n\\atop n- k\\right| $$\n",
    "<p> </p>\n",
    "<p>A proof of this identity was given by René Gy and Marko Riedel at\n",
    "<a href=\"https://math.stackexchange.com/q/4037946\">MSE</a>. See also <a href=\"https://oeis.org/A341102\">A341102</a>.</p>"
   ]
  },
  {
   "cell_type": "markdown",
   "metadata": {},
   "source": [
    "<h2 style='color:#5E7AFF;margin-bottom:16px'>Formula <span style='color:orange'>12</span></h2>\n",
    "$$ \\operatorname{W}(n, 0) = 0^n, \\operatorname{W}(n, k) = 0 \\ \\ (k < 0 \\text{ or } k > n),$$\n",
    "<p> </p>\n",
    "$$ \\operatorname{W}(n, k) = k\\,\\operatorname{W}(n-1, k) + (n + k - 1)\\,\\operatorname{W}(n-1, k-1)$$"
   ]
  },
  {
   "cell_type": "code",
   "execution_count": 11,
   "metadata": {},
   "outputs": [
    {
     "name": "stdout",
     "output_type": "stream",
     "text": [
      "[1]\n",
      "[0, 1]\n",
      "[0, 1, 3]\n",
      "[0, 1, 10, 15]\n",
      "[0, 1, 25, 105, 105]\n",
      "[0, 1, 56, 490, 1260, 945]\n",
      "[0, 1, 119, 1918, 9450, 17325, 10395]\n",
      "[0, 1, 246, 6825, 56980, 190575, 270270, 135135]\n"
     ]
    }
   ],
   "source": [
    "# The Ward numbers\n",
    "@cached_function\n",
    "def W(n, k):\n",
    "    if k == 0 and n == 0: return 1\n",
    "    if k <= 0 or  k >  n: return 0\n",
    "    return k * W(n-1, k) + (n + k - 1) * W(n-1, k-1)\n",
    "\n",
    "\n",
    "for n in (0..7):\n",
    "    print([W(n, k) for k in (0..n)])"
   ]
  },
  {
   "cell_type": "markdown",
   "metadata": {},
   "source": [
    "<h2 style='color:#5E7AFF;margin-bottom:16px'>Formula <span style='color:orange'>13</span></h2>\n",
    "$$ \\operatorname{W}_{n, k} = \\sum_{j=0}^k (-1)^{j+k} \\binom{n+k}{n+j}\n",
    " \\left\\{ n+j \\atop  j\\right \\} $$"
   ]
  },
  {
   "cell_type": "code",
   "execution_count": 12,
   "metadata": {},
   "outputs": [
    {
     "name": "stdout",
     "output_type": "stream",
     "text": [
      "[1]\n",
      "[0, 1]\n",
      "[0, 1, 3]\n",
      "[0, 1, 10, 15]\n",
      "[0, 1, 25, 105, 105]\n",
      "[0, 1, 56, 490, 1260, 945]\n",
      "[0, 1, 119, 1918, 9450, 17325, 10395]\n",
      "[0, 1, 246, 6825, 56980, 190575, 270270, 135135]\n"
     ]
    }
   ],
   "source": [
    "def w(n, k):\n",
    "    return sum((-1)^(j+k) * binomial(n + k, n + j) * stirling_number2(n + j, j)\n",
    "           for j in (0..k))\n",
    "\n",
    "\n",
    "for n in (0..7):\n",
    "    print([w(n, k) for k in (0..n)])"
   ]
  },
  {
   "cell_type": "markdown",
   "metadata": {},
   "source": [
    "<h2 style='color:#5E7AFF;margin-bottom:16px'>Formula <span style='color:orange'>14</span></h2>\n",
    "$$ \\operatorname{W}_{n,k} = \\sum_{j=0}^{k} \\binom{n-j}{n-k} \n",
    "\\left\\langle\\!\\! \\left\\langle n\\atop  j\\right\\rangle\\!\\! \\right\\rangle $$"
   ]
  },
  {
   "cell_type": "code",
   "execution_count": 13,
   "metadata": {},
   "outputs": [
    {
     "name": "stdout",
     "output_type": "stream",
     "text": [
      "[1]\n",
      "[0, 1]\n",
      "[0, 1, 3]\n",
      "[0, 1, 10, 15]\n",
      "[0, 1, 25, 105, 105]\n",
      "[0, 1, 56, 490, 1260, 945]\n",
      "[0, 1, 119, 1918, 9450, 17325, 10395]\n",
      "[0, 1, 246, 6825, 56980, 190575, 270270, 135135]\n"
     ]
    }
   ],
   "source": [
    "def W(n, k):\n",
    "    return sum(binomial(n - j, n - k) * E2(n, j) for j in (0..k))\n",
    "\n",
    "\n",
    "for n in range(8):\n",
    "    print([W(n, k) for k in (0..n)])"
   ]
  },
  {
   "cell_type": "markdown",
   "metadata": {},
   "source": [
    "<h2 style='color:#5E7AFF;margin-bottom:16px'>Formula <span style='color:orange'>15</span></h2>\n",
    "$$ \\sum_{j=0}^{k} \\binom{n-j}{n-k} \n",
    "\\left\\langle\\!\\! \\left\\langle n\\atop  j\\right\\rangle\\!\\! \\right\\rangle \\,=\\, \n",
    "\\sum_{j=0}^k (-1)^{j+k} \\binom{n+k}{n+j} \\left\\{ n+j \\atop  j\\right \\} \\quad ( n \\ge 0) $$\n",
    "<p >See Marko Riedel's proof at <a href=\"https://math.stackexchange.com/q/4047603\">MSE</a>.</p>"
   ]
  },
  {
   "cell_type": "markdown",
   "metadata": {},
   "source": [
    "<h2 style='color:#5E7AFF;margin-bottom:16px'>Formula <span style='color:orange'>16</span></h2>\n",
    "$$ \\operatorname{W}_{n}(x) = \\sum_{k=0}^n \\operatorname{W}(n, k)\\, x^k $$\n"
   ]
  },
  {
   "cell_type": "code",
   "execution_count": 14,
   "metadata": {},
   "outputs": [
    {
     "name": "stdout",
     "output_type": "stream",
     "text": [
      "1\n",
      "x\n",
      "3*x^2 + x\n",
      "15*x^3 + 10*x^2 + x\n",
      "105*x^4 + 105*x^3 + 25*x^2 + x\n",
      "945*x^5 + 1260*x^4 + 490*x^3 + 56*x^2 + x\n",
      "10395*x^6 + 17325*x^5 + 9450*x^4 + 1918*x^3 + 119*x^2 + x\n",
      "135135*x^7 + 270270*x^6 + 190575*x^5 + 56980*x^4 + 6825*x^3 + 246*x^2 + x\n",
      "[1]\n",
      "[0, 1]\n",
      "[0, 1, 3]\n",
      "[0, 1, 10, 15]\n",
      "[0, 1, 25, 105, 105]\n",
      "[0, 1, 56, 490, 1260, 945]\n",
      "[0, 1, 119, 1918, 9450, 17325, 10395]\n",
      "[0, 1, 246, 6825, 56980, 190575, 270270, 135135]\n"
     ]
    }
   ],
   "source": [
    "# The Ward polynomials\n",
    "def Wpoly(n):\n",
    "    return sum(W(n, k) * x^k for k in (0..n))\n",
    "\n",
    "\n",
    "for n in range(8):\n",
    "    print(Wpoly(n))\n",
    "    \n",
    "for n in (0..7):\n",
    "    print(Wpoly(n).coefficients(sparse=False))        "
   ]
  },
  {
   "cell_type": "code",
   "execution_count": 15,
   "metadata": {},
   "outputs": [],
   "source": [
    "# plot([Wpoly(n) for n in range(6)], color=['blue','red'], \n",
    "#     legend_label='Wpoly', ymin=-1, ymax=2)"
   ]
  },
  {
   "cell_type": "markdown",
   "metadata": {},
   "source": [
    "<h2 style='color:#5E7AFF;margin-bottom:16px'>Formula <span style='color:orange'>17</span></h2>\n",
    "$$ \\operatorname{W}_{n}(x) = (1 + x)^n \n",
    "\\left\\langle \\! \\left\\langle \\frac{x}{1+x} \\right\\rangle \\! \\right\\rangle _n $$"
   ]
  },
  {
   "cell_type": "code",
   "execution_count": 16,
   "metadata": {},
   "outputs": [
    {
     "name": "stdout",
     "output_type": "stream",
     "text": [
      "[1]\n",
      "[0, 1]\n",
      "[0, 1, 3]\n",
      "[0, 1, 10, 15]\n",
      "[0, 1, 25, 105, 105]\n",
      "[0, 1, 56, 490, 1260, 945]\n",
      "[0, 1, 119, 1918, 9450, 17325, 10395]\n",
      "[0, 1, 246, 6825, 56980, 190575, 270270, 135135]\n"
     ]
    }
   ],
   "source": [
    "def wpoly(n):\n",
    "    return expand(factor((1 + x)^n * E2poly(n).subs(x = x/(1 + x)))) \n",
    "\n",
    "\n",
    "for n in range(8):\n",
    "    print(wpoly(n).coefficients(sparse=False))        "
   ]
  },
  {
   "cell_type": "markdown",
   "metadata": {},
   "source": [
    "<h2 style='color:#5E7AFF;margin-bottom:16px'>Formula <span style='color:orange'>18</span></h2>\n",
    "$$ \\left\\langle \\! \\left\\langle x \\right\\rangle \\! \\right\\rangle _n = \n",
    "(1 - x)^n \\operatorname{W}_{n}\\left(\\frac{x}{1-x}\\right) $$"
   ]
  },
  {
   "cell_type": "code",
   "execution_count": 17,
   "metadata": {},
   "outputs": [
    {
     "name": "stdout",
     "output_type": "stream",
     "text": [
      "1\n",
      "x\n",
      "2*x^2 + x\n",
      "6*x^3 + 8*x^2 + x\n",
      "24*x^4 + 58*x^3 + 22*x^2 + x\n",
      "120*x^5 + 444*x^4 + 328*x^3 + 52*x^2 + x\n",
      "720*x^6 + 3708*x^5 + 4400*x^4 + 1452*x^3 + 114*x^2 + x\n",
      "5040*x^7 + 33984*x^6 + 58140*x^5 + 32120*x^4 + 5610*x^3 + 240*x^2 + x\n",
      "[1]\n",
      "[0, 1]\n",
      "[0, 1, 2]\n",
      "[0, 1, 8, 6]\n",
      "[0, 1, 22, 58, 24]\n",
      "[0, 1, 52, 328, 444, 120]\n",
      "[0, 1, 114, 1452, 4400, 3708, 720]\n",
      "[0, 1, 240, 5610, 32120, 58140, 33984, 5040]\n"
     ]
    }
   ],
   "source": [
    "# Conversely:\n",
    "def e2poly(n):\n",
    "    return expand(factor((1 - x)^n * Wpoly(n).subs(x = x / (1 - x)))) \n",
    "\n",
    "\n",
    "for n in range(8):\n",
    "    print(e2poly(n))\n",
    "    \n",
    "for n in (0..7):\n",
    "    print(e2poly(n).coefficients(sparse=False))"
   ]
  },
  {
   "cell_type": "markdown",
   "metadata": {},
   "source": [
    "<h2 style='color:#5E7AFF;margin-bottom:16px'>Formula <span style='color:orange'>19</span></h2>\n",
    "$$ \\left\\langle\\!\\! \\left\\langle n\\atop  k\\right\\rangle\\!\\! \\right\\rangle = \\sum_{j=0}^{k}(-1)^{k-j} \\binom{n-j}{n-k} \\operatorname{W}_{n,j} $$"
   ]
  },
  {
   "cell_type": "code",
   "execution_count": 18,
   "metadata": {},
   "outputs": [
    {
     "name": "stdout",
     "output_type": "stream",
     "text": [
      "[1]\n",
      "[0, 1]\n",
      "[0, 1, 2]\n",
      "[0, 1, 8, 6]\n",
      "[0, 1, 22, 58, 24]\n",
      "[0, 1, 52, 328, 444, 120]\n",
      "[0, 1, 114, 1452, 4400, 3708, 720]\n",
      "[0, 1, 240, 5610, 32120, 58140, 33984, 5040]\n"
     ]
    }
   ],
   "source": [
    "def e2(n, k):\n",
    "    return sum((-1)^(k - j) * W(n, j) * binomial(n - j, k - j) for j in (0..k))\n",
    "\n",
    "\n",
    "for n in range(8):\n",
    "    print([e2(n, k) for k in (0..n)])"
   ]
  },
  {
   "cell_type": "markdown",
   "metadata": {},
   "source": [
    "<h2 style='color:#5E7AFF;margin-bottom:16px'>Formula <span style='color:orange'>20</span></h2>\n",
    "$$ \\left[ \\! \\left[ n\\atop  k\\right] \\! \\right] = \n",
    "(n-1)\\, \\left[ \\! \\left[ n-1\\atop  k\\right] \\! \\right] +\n",
    "(n-1) \\, \\left[ \\! \\left[ n-2\\atop  k-1\\right] \\! \\right]$$"
   ]
  },
  {
   "cell_type": "code",
   "execution_count": 19,
   "metadata": {},
   "outputs": [
    {
     "name": "stdout",
     "output_type": "stream",
     "text": [
      "[1]\n",
      "[0, 0]\n",
      "[0, 1, 0]\n",
      "[0, 2, 0, 0]\n",
      "[0, 6, 3, 0, 0]\n",
      "[0, 24, 20, 0, 0, 0]\n",
      "[0, 120, 130, 15, 0, 0, 0]\n",
      "[0, 720, 924, 210, 0, 0, 0, 0]\n"
     ]
    }
   ],
   "source": [
    "# [[n, k]] are the associated Stirling numbers of the first kind.\n",
    "\n",
    "@cached_function\n",
    "def AS1(n, k):\n",
    "    if n < 0: return 0\n",
    "    if k == 0: return k^n\n",
    "    return (n - 1) * AS1(n - 1, k) + (n - 1) * AS1(n - 2, k - 1)\n",
    "\n",
    "\n",
    "for n in range(8):\n",
    "    print([AS1(n,k) for k in (0..n)])"
   ]
  },
  {
   "cell_type": "markdown",
   "metadata": {},
   "source": [
    "<h2 style='color:#5E7AFF;margin-bottom:16px'>Formula <span style='color:orange'>21</span></h2>\n",
    "$$ \\left[ \\! \\left[ {n \\atop  k} \\right] \\! \\right] = \\sum_{j=0}^{n-k} \\binom{j}{n-2k} \\left\\langle \\!\\!\\! \\left\\langle {n-k \\atop j+1} \\right\\rangle \\!\\!\\! \\right\\rangle $$"
   ]
  },
  {
   "cell_type": "code",
   "execution_count": 20,
   "metadata": {},
   "outputs": [
    {
     "name": "stdout",
     "output_type": "stream",
     "text": [
      "[1]\n",
      "[0, 0]\n",
      "[0, 1, 0]\n",
      "[0, 2, 0, 0]\n",
      "[0, 6, 3, 0, 0]\n",
      "[0, 24, 20, 0, 0, 0]\n",
      "[0, 120, 130, 15, 0, 0, 0]\n",
      "[0, 720, 924, 210, 0, 0, 0, 0]\n"
     ]
    }
   ],
   "source": [
    "def aS1(n, k):\n",
    "    if k == 0: return k^n\n",
    "    return sum(binomial(j, n - 2 * k) * E2(n - k, j + 1) for j in (0..n-k))\n",
    "\n",
    "\n",
    "for n in range(8):\n",
    "    print([aS1(n, k) for k in (0..n)])\n",
    "    #print([AS1(n, k) for k in (0..n)])"
   ]
  },
  {
   "cell_type": "markdown",
   "metadata": {},
   "source": [
    "<h2 style='color:#5E7AFF;margin-bottom:16px'>Formula <span style='color:orange'>22</span></h2>\n",
    "$$ \\left\\langle \\!\\!\\left\\langle {n \\atop k} \\right\\rangle \\!\\!\\right\\rangle = \n",
    "\\sum_{j=0}^{n-k+1} (-1)^{n-k-j+1} \\binom{n-j}{k-1} \\left[\\!\\left[ {n+j \\atop j} \\right]\\!\\right] \\quad (n \\ge 1)$$"
   ]
  },
  {
   "cell_type": "code",
   "execution_count": 21,
   "metadata": {},
   "outputs": [
    {
     "name": "stdout",
     "output_type": "stream",
     "text": [
      "[1]\n",
      "[0, 1]\n",
      "[0, 1, 2]\n",
      "[0, 1, 8, 6]\n",
      "[0, 1, 22, 58, 24]\n",
      "[0, 1, 52, 328, 444, 120]\n",
      "[0, 1, 114, 1452, 4400, 3708, 720]\n",
      "[0, 1, 240, 5610, 32120, 58140, 33984, 5040]\n"
     ]
    }
   ],
   "source": [
    "def e2(n, k): \n",
    "    if n == k: return factorial(n)\n",
    "    return sum((-1)^(n - k - j + 1)*binomial(n - j, k - 1) * AS1(n + j, j) for j in (0..n - k + 1))\n",
    "\n",
    "\n",
    "for n in range(8):\n",
    "    print([e2(n, k) for k in (0..n)])"
   ]
  },
  {
   "cell_type": "markdown",
   "metadata": {},
   "source": [
    "<h2 style='color:#5E7AFF;margin-bottom:16px'>Formula <span style='color:orange'>23</span></h2>\n",
    "$$ \\left\\{ \\!\\! \\left\\{ n\\atop  k\\right\\} \\!\\! \\right\\} = \n",
    "k\\, \\left\\{ \\!\\! \\left\\{ n-1\\atop  k\\right\\} \\!\\! \\right\\} +\n",
    "(n+1) \\, \\left\\{ \\!\\! \\left\\{ n-2\\atop  k-1\\right\\} \\!\\! \\right\\}$$"
   ]
  },
  {
   "cell_type": "code",
   "execution_count": 22,
   "metadata": {},
   "outputs": [
    {
     "name": "stdout",
     "output_type": "stream",
     "text": [
      "[1]\n",
      "[0, 0]\n",
      "[0, 1, 0]\n",
      "[0, 1, 0, 0]\n",
      "[0, 1, 3, 0, 0]\n",
      "[0, 1, 10, 0, 0, 0]\n",
      "[0, 1, 25, 15, 0, 0, 0]\n",
      "[0, 1, 56, 105, 0, 0, 0, 0]\n"
     ]
    }
   ],
   "source": [
    "# {{n, k}} are the associated Stirling numbers of the second kind.\n",
    "\n",
    "@cached_function\n",
    "def AS2(n, k):\n",
    "    if n < 0: return 0\n",
    "    if k == 0: return k^n\n",
    "    return k * AS2(n - 1, k) + (n - 1) * AS2(n - 2, k - 1)\n",
    "\n",
    "\n",
    "for n in range(8):\n",
    "    print([AS2(n, k) for k in (0..n)])"
   ]
  },
  {
   "cell_type": "markdown",
   "metadata": {},
   "source": [
    "<h2 style='color:#5E7AFF;margin-bottom:16px'>Formula <span style='color:orange'>24</span></h2>\n",
    "$$ \\left\\{ \\!\\! \\left\\{ n\\atop  k\\right\\} \\!\\! \\right\\} = \n",
    "\\sum_{j=0}^{n-k}\\binom{j}{n-2k} \n",
    "\\left\\langle\\!\\!\\!\\genfrac<>{0pt}{}{n-k}{n-k-j}\\!\\!\\!\\right\\rangle $$"
   ]
  },
  {
   "cell_type": "code",
   "execution_count": 23,
   "metadata": {
    "scrolled": true
   },
   "outputs": [
    {
     "name": "stdout",
     "output_type": "stream",
     "text": [
      "[1]\n",
      "[0, 0]\n",
      "[0, 1, 0]\n",
      "[0, 1, 0, 0]\n",
      "[0, 1, 3, 0, 0]\n",
      "[0, 1, 10, 0, 0, 0]\n",
      "[0, 1, 25, 15, 0, 0, 0]\n",
      "[0, 1, 56, 105, 0, 0, 0, 0]\n"
     ]
    }
   ],
   "source": [
    "def aS2(n, k):\n",
    "    return sum(binomial(j, n - 2 * k) * E2(n - k, n - k - j) for j in (0..n-k))\n",
    "\n",
    "\n",
    "for n in range(8):\n",
    "    print([aS2(n, k) for k in (0..n)])"
   ]
  },
  {
   "cell_type": "markdown",
   "metadata": {},
   "source": [
    "<h2 style='color:#5E7AFF;margin-bottom:16px'>Formula <span style='color:orange'>25</span></h2>\n",
    "$$ \\left\\langle\\!\\! \\left\\langle n\\atop  k\\right\\rangle\\!\\! \\right\\rangle = \\sum_{j=0}^{k} (-1)^{k-j} \\binom{n-j}{k-j} \\left\\{ \\!\\! \\left\\{ n+j\\atop j\\right\\} \\!\\! \\right\\} $$"
   ]
  },
  {
   "cell_type": "code",
   "execution_count": 24,
   "metadata": {},
   "outputs": [
    {
     "name": "stdout",
     "output_type": "stream",
     "text": [
      "[1]\n",
      "[0, 1]\n",
      "[0, 1, 2]\n",
      "[0, 1, 8, 6]\n",
      "[0, 1, 22, 58, 24]\n",
      "[0, 1, 52, 328, 444, 120]\n",
      "[0, 1, 114, 1452, 4400, 3708, 720]\n",
      "[0, 1, 240, 5610, 32120, 58140, 33984, 5040]\n"
     ]
    }
   ],
   "source": [
    "def e2(n, k):\n",
    "    return sum((-1)^(k - j) * binomial(n - j, k - j) * AS2(n + j, j) for j in (0..k))\n",
    "\n",
    "\n",
    "for n in range(8):\n",
    "    print([e2(n, k) for k in (0..n)])"
   ]
  },
  {
   "cell_type": "markdown",
   "metadata": {},
   "source": [
    "<h2 style='color:#5E7AFF;margin-bottom:16px'>Formula <span style='color:orange'>26</span></h2>\n",
    "$$ \\sum_{j=0}^{k} (-1)^{k-j} \\binom{n-j}{k-j} \n",
    "\\left\\{ \\!\\! \\left\\{ n+j\\atop j\\right\\} \\!\\! \\right\\} = \n",
    "\\sum_{j=0}^{n-k+1} (-1)^{n-k-j+1} \\binom{n-j}{k-1} \n",
    "\\left[\\! \\left[ n+j\\atop j\\right] \\! \\right] $$\n",
    "<p> </p>\n",
    "<p>A proof of this identity was given by Marko Riedel at\n",
    "<a href=\"https://math.stackexchange.com/q/4037172\">MSE</a>.</p>"
   ]
  },
  {
   "cell_type": "markdown",
   "metadata": {},
   "source": [
    "<h2 style='color:#5E7AFF;margin-bottom:16px'>Formula <span style='color:orange'>27</span></h2>\n",
    "<p>Let $W(x) \\,=\\, $ LambertW$(x)$, then </p>\n",
    "<p>  </p>\n",
    "$$ 2^n \\left\\langle\\!\\!\\left\\langle  \\frac{1}{2}  \\right\\rangle\\!\\!\\right\\rangle_n\n",
    "= n! \\, [x^n]\\, \\frac{1}{{2 + 2\\operatorname{W}(- \\exp((x-1)\\,/\\,2)\\,/\\,2)}} .$$\n",
    "<p>  </p>"
   ]
  },
  {
   "cell_type": "code",
   "execution_count": 25,
   "metadata": {},
   "outputs": [
    {
     "name": "stdout",
     "output_type": "stream",
     "text": [
      "[1, 1, 4, 26, 236, 2752, 39208, 660032, 12818912, 282137824, 6939897856]\n"
     ]
    }
   ],
   "source": [
    "def lhs(n):\n",
    "    return 2^n * E2poly(n).substitute(x=1/2) \n",
    "\n",
    "\n",
    "print([lhs(n) for n in range(11)])\n",
    "\n",
    "# Maple:\n",
    "# ser := series((1/2)/(1 + LambertW((-1/2)*exp((x-1)/2))), x, 14):\n",
    "# seq(n!*coeff(ser, x, n), n=0..10);"
   ]
  },
  {
   "cell_type": "markdown",
   "metadata": {},
   "source": [
    "<h2 style='color:#5E7AFF;margin-bottom:16px'>Formula <span style='color:orange'>28</span></h2>\n",
    "$$ 2^n \\left\\langle\\!\\!\\left\\langle - \\frac{1}{2} \\right\\rangle\\!\\!\\right\\rangle_n \n",
    "= (n + 1)!\\, [x^{n+1}]\\, \\text{Reversion}\\left(\\frac{6x + \\exp(3x) - 1}{9}\\right) \\quad (n \\ge 0). $$"
   ]
  },
  {
   "cell_type": "code",
   "execution_count": 26,
   "metadata": {},
   "outputs": [
    {
     "name": "stdout",
     "output_type": "stream",
     "text": [
      "[1, -1, 0, 6, -12, -144, 1080, 5184, -127008, 95904, 19077120]\n",
      "[1, -1, 0, 6, -12, -144, 1080, 5184, -127008, 95904, 19077120]\n"
     ]
    }
   ],
   "source": [
    "def lhs(n):\n",
    "    return 2^n * E2poly(n).substitute(x=-1/2) \n",
    "\n",
    "\n",
    "def rhs(n):\n",
    "    R.<x> = PowerSeriesRing(QQ, default_prec=2*n)\n",
    "    f = R((6 * x + exp(3 * x) - 1) / 9)\n",
    "    p = f.pade(n + 1, 0)  \n",
    "    C = R(p).reverse(precision=n+1).shift(-1).list()\n",
    "    return [c * factorial(k + 1) for k,c in enumerate(C)]\n",
    "\n",
    "\n",
    "print([lhs(n) for n in range(11)])\n",
    "print(rhs(11))\n",
    "\n",
    "# Mathematica:\n",
    "# f[x_] := (6 x + Exp[3 x] - 1)/9;\n",
    "# S := InverseSeries[Series[f[x], {x, 0, R}], x];\n",
    "# Table[(n + 1)!  Coefficient[S, x, n + 1], {n, 0, 10}]   "
   ]
  },
  {
   "cell_type": "markdown",
   "metadata": {},
   "source": [
    " <h2 style='color:#5E7AFF;margin-bottom:16px'>Formula <span style='color:orange'>29</span></h2>\n",
    " $$ \\, 2^n \\left\\langle\\!\\!\\left\\langle - \\frac{1}{2} \\right\\rangle\\!\\!\\right\\rangle_n \\, = \\, 3^n W_n\\left(-\\frac13\\right) \\quad ( n \\ge 0) $$ "
   ]
  },
  {
   "cell_type": "code",
   "execution_count": 27,
   "metadata": {},
   "outputs": [
    {
     "name": "stdout",
     "output_type": "stream",
     "text": [
      "[1, -1, 0, 6, -12, -144, 1080, 5184, -127008, 95904, 19077120]\n"
     ]
    }
   ],
   "source": [
    "def lhs(n):\n",
    "    return 3^n * Wpoly(n).substitute(x=-1/3) \n",
    "\n",
    "print([lhs(n) for n in range(11)])"
   ]
  },
  {
   "cell_type": "markdown",
   "metadata": {},
   "source": [
    "<h2 style='color:#5E7AFF;margin-bottom:16px'>Formula <span style='color:orange'>30</span></h2>\n",
    "$$ m^{m+n} \\, = \\, m! \\, [x^m]\n",
    "\\frac{\\left\\langle \\! \\left\\langle \\,\\operatorname{T}(x) \\, \\right\\rangle \\! \\right\\rangle _n} {(1-\\operatorname{T}(x))^{2n+1}}  \\quad ( n \\ge 0) $$\n",
    "<p>  </p>\n",
    "Here \n",
    "$\\operatorname{T}(z) = - \\operatorname{W}(-z)$ \n",
    "denotes Euler's tree function, and $\\operatorname{W}$ is the principal branch of Lambert's function (<a href=\"https://oeis.org/A000169\">A000169</a>). See also Marko Riedel's <a href=\"https://math.stackexchange.com/q/4042405\">proof</a> on MSE."
   ]
  },
  {
   "cell_type": "code",
   "execution_count": 28,
   "metadata": {},
   "outputs": [
    {
     "name": "stdout",
     "output_type": "stream",
     "text": [
      "[1, 1, 4, 27, 256, 3125, 46656]\n",
      "[0, 1, 8, 81, 1024, 15625, 279936]\n",
      "[0, 1, 16, 243, 4096, 78125, 1679616]\n",
      "[0, 1, 32, 729, 16384, 390625, 10077696]\n",
      "[0, 1, 64, 2187, 65536, 1953125, 60466176]\n",
      "\n",
      "[1, 1, 4, 27, 256, 3125, 46656]\n",
      "[0, 1, 8, 81, 1024, 15625, 279936]\n",
      "[0, 1, 16, 243, 4096, 78125, 1679616]\n",
      "[0, 1, 32, 729, 16384, 390625, 10077696]\n",
      "[0, 1, 64, 2187, 65536, 1953125, 60466176]\n"
     ]
    }
   ],
   "source": [
    "def lhs(n, m):\n",
    "    return m^(m + n)\n",
    "\n",
    "\n",
    "for n in range(5):\n",
    "    print([lhs(n, k) for k in (0..6)])\n",
    "\n",
    "    \n",
    "def rhs(n, L):\n",
    "    R.<x> = PowerSeriesRing(QQ, L + (n == 0))\n",
    "    T = R(sum(m^(m - 1) * x^m / factorial(m) for m in (1..L)))\n",
    "    S = R(E2poly(n)).substitute(x = T) / (1 - T)^(2 * n + 1) \n",
    "    return [c * factorial(m) for m,c in enumerate(S.list())]\n",
    "\n",
    "\n",
    "print()\n",
    "for n in range(5): print(rhs(n, 6))\n",
    "\n",
    "    \n",
    "# Maple:\n",
    "# T := x -> -LambertW(-x);\n",
    "# ET := n -> E2poly(n, T(x)) / (1 - T(x))^(2*n+1);\n",
    "# for n from 0 to 6 do\n",
    "#    ser := series(ET(n), x, 16):\n",
    "#    print(seq(k!*coeff(ser, x, k), k=0..9)) od:"
   ]
  },
  {
   "cell_type": "markdown",
   "metadata": {},
   "source": [
    "<h2 style='color:#5E7AFF;margin-bottom:16px'>Discussions on MSE</h2>\n",
    "\n",
    "[Topics tagged](https://math.stackexchange.com/questions/tagged/eulerian-numbers)\n",
    "\n",
    "[Second-order Eulerian numbers, Lambert's W function, and Schröder's fourth problem](https://math.stackexchange.com/questions/4040942)\n",
    "\n",
    "[A Stirling number identity representing the second-order Eulerian numbers](https://math.stackexchange.com/questions/4034224)\n",
    "\n",
    "[A recurrence of the second-order Eulerian polynomials](https://math.stackexchange.com/questions/4043347)\n",
    "\n",
    "[The value of the second-order Eulerian polynomials at x = -1/2](https://math.stackexchange.com/questions/4044848)\n",
    "\n",
    "[An identity related to the second-order Eulerian numbers](https://math.stackexchange.com/questions/4046356)\n",
    "\n",
    "[Difference of the Stirling cycle numbers and the Stirling set numbers](https://math.stackexchange.com/questions/4037946)\n",
    "\n",
    "[An associated Stirling number identity related to the second-order Eulerian numbers](https://math.stackexchange.com/questions/4037172)\n"
   ]
  }
 ],
 "metadata": {
  "kernelspec": {
   "display_name": "SageMath 9.3",
   "language": "sage",
   "name": "sagemath"
  },
  "language_info": {
   "codemirror_mode": {
    "name": "ipython",
    "version": 3
   },
   "file_extension": ".py",
   "mimetype": "text/x-python",
   "name": "python",
   "nbconvert_exporter": "python",
   "pygments_lexer": "ipython3",
   "version": "3.7.10"
  }
 },
 "nbformat": 4,
 "nbformat_minor": 4
}
