{
 "cells": [
  {
   "cell_type": "markdown",
   "metadata": {
    "collapsed": false
   },
   "source": [
    "<h1 style='color:#5E7AFF'>Eulerian numbers</h1> \n",
    "<h3 style='color:#5E7AFF'>A companion to \n",
    "<a href=\"https://oeis.org/A342321\">A342321</a> and\n",
    "<a href=\"https://oeis.org/A356601\">A356601</a>.</h3>\n",
    "<h4 style='color:#708090'>Peter Luschny, Aug 2022</h4>\n",
    "<p>You can download this SageMath notebook from <a href='https://github.com/PeterLuschny/EulerianSecondOrderNumbers'>GitHub</a>.</p>\n"
   ]
  },
  {
   "cell_type": "code",
   "execution_count": 13,
   "metadata": {
    "collapsed": false
   },
   "outputs": [
   ],
   "source": [
    "from functools import cache"
   ]
  },
  {
   "cell_type": "markdown",
   "metadata": {
    "collapsed": false
   },
   "source": [
    "<p style=\"color:brown;font-size:large\">Indexing the first-order Eulerian numbers comes in three flavors: A008292 (following Riordan and Comtet), A173018 (following Graham, Knuth, and Patashnik) and A123125. We use the definition A173018.</p>"
   ]
  },
  {
   "cell_type": "markdown",
   "metadata": {
    "collapsed": false
   },
   "source": [
    "<h2 style='color:#5E7AFF;margin-bottom:16px'>Formula <span style='color:orange'>1</span></h2> \n",
    "\n",
    "<p style=\"color:brown;font-size:large\">The (first-order) Eulerian numbers <a href=\"https://oeis.org/A173018\">A173018</a>.</p>\n",
    "\n",
    "$$ \\left\\langle n\\atop  k\\right\\rangle = 0^k \\ \\ (n = k), $$\n",
    "$$ \\left\\langle n\\atop  k\\right\\rangle  = 0 \\ \\ (k \\lt 0\\ | \\ k \\gt n), $$ \n",
    "$$ (k+1)\\left\\langle n-1\\atop  k\\right\\rangle  + (n-k)\\, \\left\\langle n-1\\atop  k-1\\right\\rangle . $$\n"
   ]
  },
  {
   "cell_type": "code",
   "execution_count": 14,
   "metadata": {
    "collapsed": false
   },
   "outputs": [
    {
     "name": "stdout",
     "output_type": "stream",
     "text": [
      "[1]\n",
      "[1, 0]\n",
      "[1, 1, 0]\n",
      "[1, 4, 1, 0]\n",
      "[1, 11, 11, 1, 0]\n",
      "[1, 26, 66, 26, 1, 0]\n",
      "[1, 57, 302, 302, 57, 1, 0]\n",
      "[1, 120, 1191, 2416, 1191, 120, 1, 0]\n",
      "[1, 247, 4293, 15619, 15619, 4293, 247, 1, 0]\n",
      "[1, 502, 14608, 88234, 156190, 88234, 14608, 502, 1, 0]\n"
     ]
    }
   ],
   "source": [
    "@cache\n",
    "def E(n, k):\n",
    "    if n == k: return 0^k\n",
    "    if k < 0 or k > n : return 0\n",
    "    return (k + 1) * E(n - 1, k) + (n - k) * E(n - 1, k - 1)\n",
    "\n",
    "\n",
    "for n in range(10):\n",
    "    print([E(n, k) for k in range(n + 1)])"
   ]
  },
  {
   "cell_type": "markdown",
   "metadata": {
    "collapsed": false
   },
   "source": [
    "<h2 style='color:#5E7AFF;margin-bottom:16px'>Formula <span style='color:orange'>2</span></h2>"
   ]
  },
  {
   "cell_type": "markdown",
   "metadata": {
    "collapsed": false
   },
   "source": [
    "<p style=\"color:brown;font-size:large\">The Bernoulli numbers $\\operatorname{B}_{n}$ as used here have $\\operatorname{B}_{1} = 1/2$. Note that Donald Knuth switched to this definition in TAOCP, vol. 1 since 47-th printing, Oct. 2021, and in Concrete Mathematics, since 34-th printing, Jan. 2022.</p>"
   ]
  },
  {
   "cell_type": "markdown",
   "metadata": {
    "collapsed": false
   },
   "source": [
    "$$\\operatorname{B}_{n} = \\frac{1}{n+1}\\, \\sum_{k=0}^{n}  \n",
    "(-1)^{k}\\frac{ \\left\\langle n\\atop k \\right\\rangle}{\\binom{n}{k}} \\quad(n \\ge 0).$$"
   ]
  },
  {
   "cell_type": "code",
   "execution_count": 2,
   "metadata": {
    "collapsed": false
   },
   "outputs": [
    {
     "name": "stdout",
     "output_type": "stream",
     "text": [
      "[1, 1/2, 1/6, 0, -1/30, 0, 1/42, 0, -1/30, 0, 5/66, 0, -691/2730]\n",
      "[1, 1/2, 1/6, 0, -1/30, 0, 1/42, 0, -1/30, 0, 5/66, 0, -691/2730]\n"
     ]
    }
   ],
   "source": [
    "def b(n):\n",
    "    return sum((-1)^k * E(n, k) / binomial(n, k)\n",
    "           for k in range(n+1)) // (n + 1)\n",
    "\n",
    "\n",
    "print([bernoulli_polynomial(1, n) for n in range(13)])\n",
    "print([b(n) for n in range(13)])"
   ]
  },
  {
   "cell_type": "markdown",
   "metadata": {
    "collapsed": false
   },
   "source": [
    "<h2 style='color:#5E7AFF;margin-bottom:16px'>Formula <span style='color:orange'>3</span></h2>"
   ]
  },
  {
   "cell_type": "markdown",
   "metadata": {
    "collapsed": false
   },
   "source": [
    "<p style=\"color:brown;font-size:large\">The Eulberian polynomials. See OEIS\n",
    "<a href=\"https://oeis.org/A342321\">A342321</a>,\n",
    "   <a href=\"https://oeis.org/A343277\">A343277</a>, and \n",
    "   <a href=\"https://oeis.org/A356601\">A356601</a>.</p>"
   ]
  },
  {
   "cell_type": "markdown",
   "metadata": {
    "collapsed": false
   },
   "source": [
    "$$\\operatorname{\\beta}_{n}(x) = \\frac{1}{n+1}\\, \\sum_{k=0}^{n}  \n",
    "(-1)^{k}\\frac{ \\left\\langle n\\atop k \\right\\rangle}{\\binom{n}{k}}\\, x^{n-k} \\quad(n \\ge 0).$$"
   ]
  },
  {
   "cell_type": "markdown",
   "metadata": {
    "collapsed": false
   },
   "source": [
    "  <style>\n",
    "    table.cineTable {\n",
    "      border: 6px solid silver;\n",
    "      background-color: #fcfbf1;\n",
    "      width: 100%;\n",
    "      text-align: center;\n",
    "      color: royalblue;\n",
    "    }\n",
    "\n",
    "    table.cineTable td,\n",
    "    table.cineTable th {\n",
    "      border: 1px solid silver;\n",
    "      padding: 4px 4px;\n",
    "    }\n",
    "\n",
    "    table.cineTable tbody td {\n",
    "      font-size: 15px;\n",
    "    }\n",
    "\n",
    "    table.cineTable thead {\n",
    "      background: silver;\n",
    "    }\n",
    "\n",
    "    table.cineTable thead th {\n",
    "      font-size: 17px;\n",
    "      font-weight: 500;\n",
    "      color: blue;\n",
    "      text-align: center;\n",
    "      border-left: 2px solid silver;\n",
    "    }\n",
    "\n",
    "    table.cineTable thead th:first-child {\n",
    "      border-left: none;\n",
    "    }\n",
    "\n",
    "    table.cineTable tfoot {\n",
    "      font-size: 16px;\n",
    "      font-weight: bold;\n",
    "      color: #F0F0F0;\n",
    "      background: #948473;\n",
    "    }\n",
    "\n",
    "    table.cineTable tfoot td {\n",
    "      font-size: 16px;\n",
    "    }\n",
    "  </style>\n",
    "\n",
    "  <table class=\"cineTable\">\n",
    "    <thead>\n",
    "      <tr>\n",
    "        <th>x<sup>0</sup></th>\n",
    "        <th>x<sup>1</sup></th>\n",
    "        <th>x<sup>2</sup></th>\n",
    "        <th>x<sup>3</sup></th>\n",
    "        <th>x<sup>4</sup></th>\n",
    "        <th>x<sup>5</sup></th>\n",
    "        <th>&#x2211;</th>\n",
    "      </tr>\n",
    "    </thead>\n",
    "    <tbody>\n",
    "      <tr>\n",
    "        <td>+ 1</td>\n",
    "        <td>&#183;</td>\n",
    "        <td>&#183;</td>\n",
    "        <td>&#183;</td>\n",
    "        <td>&#183;</td>\n",
    "        <td>&#183;</td>\n",
    "        <td>1</td>\n",
    "      </tr>\n",
    "      <tr>\n",
    "        <td>0</td>\n",
    "        <td>+ 1 / 2</td>\n",
    "        <td>&#183;</td>\n",
    "        <td>&#183;</td>\n",
    "        <td>&#183;</td>\n",
    "        <td>&#183;</td>\n",
    "        <td>1 / 2</td>\n",
    "      </tr>\n",
    "      <tr>\n",
    "        <td>0</td>\n",
    "        <td>- 1/ 6</td>\n",
    "        <td>+ 1 / 3</td>\n",
    "        <td>&#183;</td>\n",
    "        <td>&#183;</td>\n",
    "        <td>&#183;</td>\n",
    "        <td>1 / 6</td>\n",
    "      </tr>\n",
    "      <tr>\n",
    "        <td>0</td>\n",
    "        <td>+ 1 / 12</td>\n",
    "        <td>- 1 / 3</td>\n",
    "        <td>+ 1 / 4</td>\n",
    "        <td>&#183;</td>\n",
    "        <td>&#183;</td>\n",
    "        <td>0</td>\n",
    "      </tr>\n",
    "      <tr>\n",
    "        <td>0</td>\n",
    "        <td>- 1 / 20</td>\n",
    "        <td>+ 11 / 30</td>\n",
    "        <td>- 11 / 20</td>\n",
    "        <td>+ 1 / 5</td>\n",
    "        <td>&#183;</td>\n",
    "        <td>-1 / 30</td>\n",
    "      </tr>\n",
    "      <tr>\n",
    "        <td>0</td>\n",
    "        <td>+ 1 / 30</td>\n",
    "        <td>- 13 / 30</td>\n",
    "        <td>+ 11 / 10</td>\n",
    "        <td>- 13 / 15</td>\n",
    "        <td>+ 1 / 6</td>\n",
    "        <td>0</td>\n",
    "      </tr>\n",
    "    </tbody>\n",
    "  </table>"
   ]
  },
  {
   "cell_type": "code",
   "execution_count": 3,
   "metadata": {
    "collapsed": false
   },
   "outputs": [
   ],
   "source": [
    "def eulberian(n, x):\n",
    "    return sum((-1)^k * x^(n - k) * E(n, k) / binomial(n, k) \n",
    "           for k in range(n+1)) / (n + 1)"
   ]
  },
  {
   "cell_type": "code",
   "execution_count": 4,
   "metadata": {
    "collapsed": false
   },
   "outputs": [
    {
     "data": {
      "image/png": "[encoded data removed]",
      "text/plain": [
       "Graphics object consisting of 7 graphics primitives"
      ]
     },
     "execution_count": 4,
     "metadata": {
     },
     "output_type": "execute_result"
    }
   ],
   "source": [
    "plot([eulberian(n, x) for n in range(3, 10)], (x, 0, 1))"
   ]
  },
  {
   "cell_type": "code",
   "execution_count": 5,
   "metadata": {
    "collapsed": false
   },
   "outputs": [
    {
     "name": "stdout",
     "output_type": "stream",
     "text": [
      "[1, 1/2, 1/6, 0, -1/30, 0, 1/42, 0, -1/30, 0, 5/66, 0, -691/2730]\n"
     ]
    }
   ],
   "source": [
    "from sage.symbolic.integration.integral import definite_integral\n",
    "\n",
    "def eb(n, x):\n",
    "    w = sum(E(n, k)*x^(k + 1)*(x - 1)^(n - k - 1) for k in range(n+1))\n",
    "    return definite_integral(w, x, 0, 1)\n",
    "\n",
    "\n",
    "print([1] + [eb(n, x) for n in range(1, 13)])"
   ]
  },
  {
   "cell_type": "markdown",
   "metadata": {
    "collapsed": false
   },
   "source": [
    "<h2 style='color:#5E7AFF;margin-bottom:16px'>Formula <span style='color:orange'>4</span></h2>"
   ]
  },
  {
   "cell_type": "markdown",
   "metadata": {
    "collapsed": false
   },
   "source": [
    "<p style=\"color:brown;font-size:large\">See <a href=\"https://oeis.org/A356546\">A356546</a>. The numbers generate a triangle which is the counterpart of Leibniz's harmonic triangle <a href=\"https://oeis.org/A003506\">A003506</a>, which is generated when the falling factorial is used instead.</p>"
   ]
  },
  {
   "cell_type": "markdown",
   "metadata": {
    "collapsed": false
   },
   "source": [
    " $$ F(n,k) \\, = \\, \\frac{ (n+1)^{ \\overline{n} } }{ k! \\, (n-k)! },$$"
   ]
  },
  {
   "cell_type": "code",
   "execution_count": 6,
   "metadata": {
    "collapsed": false
   },
   "outputs": [
    {
     "name": "stdout",
     "output_type": "stream",
     "text": [
      "[1]\n",
      "[2, 2]\n",
      "[6, 12, 6]\n",
      "[20, 60, 60, 20]\n",
      "[70, 280, 420, 280, 70]\n",
      "[252, 1260, 2520, 2520, 1260, 252]\n",
      "[924, 5544, 13860, 18480, 13860, 5544, 924]\n",
      "[3432, 24024, 72072, 120120, 120120, 72072, 24024, 3432]\n",
      "[12870, 102960, 360360, 720720, 900900, 720720, 360360, 102960, 12870]\n"
     ]
    }
   ],
   "source": [
    "def F(n, k):\n",
    "    return rising_factorial(n+1, n) // (factorial(k) * factorial(n-k))\n",
    "\n",
    "\n",
    "for n in range(9): \n",
    "    print([F(n, k) for k in range(n+1)])"
   ]
  },
  {
   "cell_type": "markdown",
   "metadata": {
    "collapsed": false
   },
   "source": [
    "<h2 style='color:#5E7AFF;margin-bottom:16px'>Formula <span style='color:orange'>5</span></h2>"
   ]
  },
  {
   "cell_type": "markdown",
   "metadata": {
    "collapsed": false
   },
   "source": [
    "$$ \\frac{\\operatorname{B}_n}{\\operatorname{C}_n} \\, = \\, \\sum_{k=0}^{n} (-1)^{k} \\frac{E(n, k)}{F(n,k)},$$ \n",
    "<p style=\"color:brown;font-size:large\">where C<sub>n</sub> denote the Catalan numbers.</p>"
   ]
  },
  {
   "cell_type": "code",
   "execution_count": 7,
   "metadata": {
    "collapsed": false
   },
   "outputs": [
    {
     "name": "stdout",
     "output_type": "stream",
     "text": [
      "[1, 1/2, 1/12, 0, -1/420, 0, 1/5544, 0, -1/42900, 0, 5/1108536, 0, -691/567872760]\n",
      "[1, 1/2, 1/12, 0, -1/420, 0, 1/5544, 0, -1/42900, 0, 5/1108536, 0, -691/567872760]\n"
     ]
    }
   ],
   "source": [
    "def catalan(n):\n",
    "    return binomial(2*n, n)/(n + 1)\n",
    "\n",
    "\n",
    "def lhs(n):\n",
    "    return bernoulli_polynomial(1, n) / catalan(n)\n",
    "\n",
    "def rhs(n):\n",
    "    return sum((-1)^k * E(n, k) / F(n, k) for k in range(n+1))\n",
    "\n",
    "\n",
    "print([lhs(n) for n in range(13)])\n",
    "print([rhs(n) for n in range(13)])"
   ]
  },
  {
   "cell_type": "markdown",
   "metadata": {
    "collapsed": false
   },
   "source": [
    "<h2 style='color:#5E7AFF;margin-bottom:16px'>Formula <span style='color:orange'>6</span></h2>"
   ]
  },
  {
   "cell_type": "markdown",
   "metadata": {
    "collapsed": false
   },
   "source": [
    "$$\\operatorname{\\sigma}_{n}(x) =  \\sum_{k=0}^{n}  \n",
    "\\frac{ (-1)^{n-k}} {k+1} \\left \\{ n\\atop k \\right \\} \\, k! \\, x^{k} \\quad(n \\ge 0).$$"
   ]
  },
  {
   "cell_type": "code",
   "execution_count": 8,
   "metadata": {
    "collapsed": false
   },
   "outputs": [
    {
     "name": "stdout",
     "output_type": "stream",
     "text": [
      "[1]\n",
      "[0, 1/2]\n",
      "[0, -1/2, 2/3]\n",
      "[0, 1/2, -2, 3/2]\n",
      "[0, -1/2, 14/3, -9, 24/5]\n",
      "[0, 1/2, -10, 75/2, -48, 20]\n",
      "[0, -1/2, 62/3, -135, 312, -300, 720/7]\n"
     ]
    }
   ],
   "source": [
    "def S(n, x):\n",
    "    return sum((-1)^(n - k) * stirling_number2(n, k) * factorial(k) * x^k / (k + 1) for k in range(n + 1))\n",
    "\n",
    "\n",
    "for n in range(7): print(S(n, x).list())"
   ]
  },
  {
   "cell_type": "markdown",
   "metadata": {
    "collapsed": false
   },
   "source": [
    "<h2 style='color:#5E7AFF;margin-bottom:16px'>Formula <span style='color:orange'>7</span></h2>\n",
    "<p style=\"color:brown;font-size:large\">OEIS [A160014](https://oeis.org/A160014)</p>\n",
    "\n"
   ]
  },
  {
   "cell_type": "markdown",
   "metadata": {
    "collapsed": false
   },
   "source": [
    "$$ \\operatorname{C}_{n} = \\prod_{ p\\, -\\, 1\\, |\\, n} p, $$ "
   ]
  },
  {
   "cell_type": "code",
   "execution_count": 9,
   "metadata": {
    "collapsed": false
   },
   "outputs": [
    {
     "name": "stdout",
     "output_type": "stream",
     "text": [
      "[1, 2, 6, 2, 30, 2, 42, 2, 30, 2, 66, 2, 2730, 2, 6, 2]\n"
     ]
    }
   ],
   "source": [
    "def Clausen(n):\n",
    "    if n == 0: return 1\n",
    "    return product(filter(lambda s: is_prime(s), map(lambda i: i + 1, divisors(n))))\n",
    "\n",
    "print([Clausen(n) for n in range(16)])\n"
   ]
  },
  {
   "cell_type": "code",
   "execution_count": 10,
   "metadata": {
    "collapsed": false
   },
   "outputs": [
    {
     "name": "stdout",
     "output_type": "stream",
     "text": [
      "[1, 2, 6, 2, 30, 2, 42, 2, 30, 2, 66, 2, 2730, 2, 6, 2]\n"
     ]
    }
   ],
   "source": [
    "print([lcm([denominator(s) for s in S(n, x).list()]) for n in range(16)])"
   ]
  },
  {
   "cell_type": "markdown",
   "metadata": {
    "collapsed": false
   },
   "source": [
    "<h2 style='color:#5E7AFF;margin-bottom:16px'>Formula <span style='color:orange'>8</span></h2>\n",
    "\n",
    "<p style=\"color:brown;font-size:large\">OEIS [A194587](https://oeis.org/A194587)</p>"
   ]
  },
  {
   "cell_type": "code",
   "execution_count": 11,
   "metadata": {
    "collapsed": false
   },
   "outputs": [
    {
     "name": "stdout",
     "output_type": "stream",
     "text": [
      "[1]\n",
      "[0, 1]\n",
      "[0, -3, 4]\n",
      "[0, 1, -4, 3]\n",
      "[0, -15, 140, -270, 144]\n",
      "[0, 1, -20, 75, -96, 40]\n",
      "[0, -21, 868, -5670, 13104, -12600, 4320]\n"
     ]
    }
   ],
   "source": [
    "for n in range(7):\n",
    "    print([Clausen(n) * s for s in S(n, x).list()])"
   ]
  },
  {
   "cell_type": "markdown",
   "metadata": {
    "collapsed": false
   },
   "source": [
    "|x^0|x^1 |x^2 |x^3   |x^4   |x^5    |x^6  |\n",
    "|-  |-   |-   |-     |-     |-      |-    |\n",
    "|1  |.   |.   |.     |.     |.      |.    |\n",
    "|0  | 1  |.   |.     |.     |.      |.    |\n",
    "|0  | -3 | 4  |.     |.     |.      |.    |\n",
    "|0  | 1  | -4 | 3    |.     |.      |.    |\n",
    "|0  | -15| 140| -270 | 144  |.      |.    |\n",
    "|0  | 1  | -20| 75   | -96  | 40    | .   |\n",
    "|0  | -21| 868| -5670| 13104| -12600| 4320|"
   ]
  },
  {
   "cell_type": "markdown",
   "metadata": {
    "collapsed": false
   },
   "source": [
    "<p style=\"color:brown;font-size:large\">P.S.: If you like Eulerian numbers you might also want to have a look at this little compendium: <a href='https://github.com/PeterLuschny/EulerianSecondOrderNumbers/blob/main/Eulerian2_A340556.ipynb'>EulerianSecondOrderNumbers</a>.</p>"
   ]
  },
  {
   "cell_type": "markdown",
   "metadata": {
    "collapsed": false
   },
   "source": [
    "<p style=\"color:brown;font-size:large\">~~~</p>"
   ]
  }
 ],
 "metadata": {
  "kernelspec": {
   "display_name": "SageMath 9.6",
   "language": "sagemath",
   "metadata": {
    "cocalc": {
     "description": "Open-source mathematical software system",
     "priority": 10,
     "url": "https://www.sagemath.org/"
    }
   },
   "name": "sage-9.6",
   "resource_dir": "/ext/jupyter/kernels/sage-9.6"
  },
  "language_info": {
   "codemirror_mode": {
    "name": "ipython",
    "version": 3
   },
   "file_extension": ".py",
   "mimetype": "text/x-python",
   "name": "python",
   "nbconvert_exporter": "python",
   "pygments_lexer": "ipython3",
   "version": "3.10.3"
  },
  "vscode": {
   "interpreter": {
    "hash": "afb734500600fd355917ca529030176ea0ca205570884b88f2f6f7d791fd3fbe"
   }
  }
 },
 "nbformat": 4,
 "nbformat_minor": 4
}