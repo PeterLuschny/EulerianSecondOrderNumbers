{
 "cells": [
  {
   "cell_type": "markdown",
   "metadata": {
    "collapsed": false
   },
   "source": [
    "<h1 style='color:#5E7AFF'>Eulberian polynomials</h1> \n",
    "<h3 style='color:#5E7AFF'>A companion to \n",
    "<a href=\"https://oeis.org/A342321\">A342321</a> and\n",
    "<a href=\"https://oeis.org/A356601\">A356601</a>.</h3>\n",
    "<h4 style='color:#708090'>Peter Luschny, Aug 2022</h4>\n",
    "<p>You can download this SageMath notebook from <a href='https://github.com/PeterLuschny/EulerianSecondOrderNumbers'>GitHub</a>.</p>\n"
   ]
  },
  {
   "cell_type": "markdown",
   "metadata": {},
   "source": [
    "The Bernoulli numbers B(n) are the backbone of calculus, and according to B. Mazur, they \"act as a unifying force, holding together seemingly disparate fields of mathematics.\"\n",
    "\n",
    "The Catalan numbers C(n) are the delight of the combinatorialist. The entry of these numbers is the longest in the OEIS, and according to N. Sloane, \"rightly so.\"\n",
    "\n",
    "But what is the relationship between these extraordinary numbers?\n",
    "\n",
    "I found a formula that is amazingly simple and perhaps worthy of closer consideration:\n",
    "\n",
    "<div style=\"margin-left: 20px; width:560px; margin-bottom:16px\"><table><tr>\n",
    "<td  style=\"background-color: #FFFFE1;color: #820000;font-weight: 600;font-size: 1.0em;\tborder: inset 1pt red;padding: 0.8em;\">\n",
    "B<sub>n</sub> / C<sub>n</sub> = Sum<sub>k=0..n</sub> (−1)^k E(n, k) / F(n, k).</td>\n",
    "</tr></table></div>\n",
    "\n",
    "The E(n, k) are the Eulerian numbers, GKP CM 6.35 and A173018. The triangle F(n, k) is the factorial counterpart of Leibniz's harmonic triangle. They are defined for n ≥ 0 and 0 ≤ k ≤ n as\n",
    "\n",
    "F(n, k) = rf(n + 1, n) / (k! (n−k)!),\n",
    "\n",
    "where rf(n, k) denotes the rising factorial. (The Leibniz triangle is obtained by choosing the falling factorial instead).\n",
    "\n",
    "Notice: We set B(1) = 1/2, following Donald Knuth's new definition of the Bernoulli numbers. The sign has reversed, in Concrete Mathematics since the 34-th printing, Jan. 2022.\n",
    "\n",
    "Now the question arises, is there a simple proof of this identity?\n",
    "\n",
    "It turns out that the identity is a particular case of the Eulberian polynomials.\n",
    "I dubbed these polynomials 'Eulberian polynomials' because I don't know any other name, but think that they should have a nice name. \n"
   ]
  },
  {
   "cell_type": "code",
   "execution_count": 1,
   "metadata": {
    "collapsed": false
   },
   "outputs": [],
   "source": [
    "from functools import cache\n",
    "from sage.all import ZZ, factorial, binomial, bernoulli_polynomial, rising_factorial, stirling_number2, is_prime, divisors, denominator, lcm, product, plot\n",
    "from sage.symbolic.integration.integral import definite_integral"
   ]
  },
  {
   "cell_type": "markdown",
   "metadata": {
    "collapsed": false
   },
   "source": [
    "<p style=\"color:brown;font-size:large\">Indexing the first-order Eulerian numbers comes in three flavors: \n",
    "<a href=\"https://oeis.org/A008292\">A008292</a> (following Riordan and Comtet),\n",
    "<a href=\"https://oeis.org/A173018\">A173018</a> (following Graham, Knuth, and Patashnik),\n",
    "and <a href=\"https://oeis.org/A123125\">A123125</a>. We use the definition \n",
    "<a href=\"https://oeis.org/A173018\">A173018</a>.</p>"
   ]
  },
  {
   "cell_type": "markdown",
   "metadata": {
    "collapsed": false
   },
   "source": [
    "<h2 style='color:#5E7AFF;margin-bottom:16px'>Formula <span style='color:orange'>1</span></h2> \n",
    "\n",
    "<p style=\"color:brown;font-size:large\">The (first-order) Eulerian numbers <a href=\"https://oeis.org/A173018\">A173018</a>.</p>\n",
    "\n",
    "$$ \\left\\langle n\\atop  k\\right\\rangle = 0^k \\ \\ (n = k), $$\n",
    "$$ \\left\\langle n\\atop  k\\right\\rangle  = 0 \\ \\ (k \\lt 0\\ | \\ k \\gt n), $$ \n",
    "$$ (k+1)\\left\\langle n-1\\atop  k\\right\\rangle  + (n-k)\\, \\left\\langle n-1\\atop  k-1\\right\\rangle . $$\n"
   ]
  },
  {
   "cell_type": "code",
   "execution_count": 2,
   "metadata": {
    "collapsed": false
   },
   "outputs": [
    {
     "name": "stdout",
     "output_type": "stream",
     "text": [
      "[1]\n",
      "[1, 0]\n",
      "[1, 1, 0]\n",
      "[1, 4, 1, 0]\n",
      "[1, 11, 11, 1, 0]\n",
      "[1, 26, 66, 26, 1, 0]\n",
      "[1, 57, 302, 302, 57, 1, 0]\n",
      "[1, 120, 1191, 2416, 1191, 120, 1, 0]\n",
      "[1, 247, 4293, 15619, 15619, 4293, 247, 1, 0]\n",
      "[1, 502, 14608, 88234, 156190, 88234, 14608, 502, 1, 0]\n"
     ]
    }
   ],
   "source": [
    "@cache\n",
    "def E(n, k):\n",
    "    if n == k: return 0^k\n",
    "    if k < 0 or k > n: return 0\n",
    "    return (k + 1) * E(n - 1, k) + (n - k) * E(n - 1, k - 1)\n",
    "\n",
    "\n",
    "for n in range(10):\n",
    "    print([E(n, k) for k in range(n + 1)])\n"
   ]
  },
  {
   "cell_type": "markdown",
   "metadata": {
    "collapsed": false
   },
   "source": [
    "<h2 style='color:#5E7AFF;margin-bottom:16px'>Formula <span style='color:orange'>2</span></h2>"
   ]
  },
  {
   "cell_type": "markdown",
   "metadata": {
    "collapsed": false
   },
   "source": [
    "<p style=\"color:brown;font-size:large\">The Bernoulli numbers $\\operatorname{B}_{n}$ as used here have $ \\operatorname{B}_{1} = 1/2 $. Note that Donald Knuth switched to this definition in TAOCP, vol. 1 since 47-th printing, Oct. 2021, and in Concrete Mathematics, since 34-th printing, Jan. 2022.</p>"
   ]
  },
  {
   "cell_type": "markdown",
   "metadata": {
    "collapsed": false
   },
   "source": [
    "$$\\operatorname{B}_{n} = \\frac{1}{n+1}\\, \\sum_{k=0}^{n}  \n",
    "(-1)^{k}\\frac{ \\left\\langle n\\atop k \\right\\rangle}{\\binom{n}{k}} \\quad(n \\ge 0).$$"
   ]
  },
  {
   "cell_type": "code",
   "execution_count": 3,
   "metadata": {
    "collapsed": false
   },
   "outputs": [
    {
     "name": "stdout",
     "output_type": "stream",
     "text": [
      "[1, 1/2, 1/6, 0, -1/30, 0, 1/42, 0, -1/30, 0, 5/66, 0, -691/2730]\n",
      "[1, 1/2, 1/6, 0, -1/30, 0, 1/42, 0, -1/30, 0, 5/66, 0, -691/2730]\n"
     ]
    }
   ],
   "source": [
    "def b(n):\n",
    "    return sum((-1)^k * E(n, k) / binomial(n, k) for k in range(n + 1)) // (n + 1)\n",
    "\n",
    "\n",
    "print([bernoulli_polynomial(1, n) for n in range(13)])\n",
    "print([b(n) for n in range(13)])\n"
   ]
  },
  {
   "cell_type": "markdown",
   "metadata": {
    "collapsed": false
   },
   "source": [
    "<h2 style='color:#5E7AFF;margin-bottom:16px'>Formula <span style='color:orange'>3</span></h2>"
   ]
  },
  {
   "cell_type": "markdown",
   "metadata": {
    "collapsed": false
   },
   "source": [
    "<p style=\"color:brown;font-size:large\">The <em>Eulberian polynomials</em>. See OEIS\n",
    "<a href=\"https://oeis.org/A342321\">A342321</a>,\n",
    "   <a href=\"https://oeis.org/A343277\">A343277</a>, and \n",
    "   <a href=\"https://oeis.org/A356601\">A356601</a>.</p>"
   ]
  },
  {
   "cell_type": "markdown",
   "metadata": {
    "collapsed": false
   },
   "source": [
    "$$\\operatorname{\\beta}_{n}(x) = \\frac{1}{n+1}\\, \\sum_{k=0}^{n}  \n",
    "(-1)^{k}\\frac{ \\left\\langle n\\atop k \\right\\rangle}{\\binom{n}{k}}\\, x^{n-k} \\quad(n \\ge 0).$$"
   ]
  },
  {
   "cell_type": "markdown",
   "metadata": {
    "collapsed": false
   },
   "source": [
    "  <style>\n",
    "    table.cineTable {\n",
    "      border: 6px solid silver;\n",
    "      background-color: #fcfbf1;\n",
    "      width: 100%;\n",
    "      text-align: center;\n",
    "      color: royalblue;\n",
    "    }\n",
    "\n",
    "    table.cineTable td,\n",
    "    table.cineTable th {\n",
    "      border: 1px solid silver;\n",
    "      padding: 4px 4px;\n",
    "    }\n",
    "\n",
    "    table.cineTable tbody td {\n",
    "      font-size: 15px;\n",
    "    }\n",
    "\n",
    "    table.cineTable thead {\n",
    "      background: silver;\n",
    "    }\n",
    "\n",
    "    table.cineTable thead th {\n",
    "      font-size: 17px;\n",
    "      font-weight: 500;\n",
    "      color: blue;\n",
    "      text-align: center;\n",
    "      border-left: 2px solid silver;\n",
    "    }\n",
    "\n",
    "    table.cineTable thead th:first-child {\n",
    "      border-left: none;\n",
    "    }\n",
    "\n",
    "    table.cineTable tfoot {\n",
    "      font-size: 16px;\n",
    "      font-weight: bold;\n",
    "      color: #F0F0F0;\n",
    "      background: #948473;\n",
    "    }\n",
    "\n",
    "    table.cineTable tfoot td {\n",
    "      font-size: 16px;\n",
    "    }\n",
    "  </style>\n",
    "\n",
    "  <table class=\"cineTable\">\n",
    "    <thead>\n",
    "      <tr>\n",
    "        <th>x<sup>0</sup></th>\n",
    "        <th>x<sup>1</sup></th>\n",
    "        <th>x<sup>2</sup></th>\n",
    "        <th>x<sup>3</sup></th>\n",
    "        <th>x<sup>4</sup></th>\n",
    "        <th>x<sup>5</sup></th>\n",
    "        <th>&#x2211;</th>\n",
    "      </tr>\n",
    "    </thead>\n",
    "    <tbody>\n",
    "      <tr>\n",
    "        <td>+ 1</td>\n",
    "        <td>&#183;</td>\n",
    "        <td>&#183;</td>\n",
    "        <td>&#183;</td>\n",
    "        <td>&#183;</td>\n",
    "        <td>&#183;</td>\n",
    "        <td>1</td>\n",
    "      </tr>\n",
    "      <tr>\n",
    "        <td>0</td>\n",
    "        <td>+ 1 / 2</td>\n",
    "        <td>&#183;</td>\n",
    "        <td>&#183;</td>\n",
    "        <td>&#183;</td>\n",
    "        <td>&#183;</td>\n",
    "        <td>1 / 2</td>\n",
    "      </tr>\n",
    "      <tr>\n",
    "        <td>0</td>\n",
    "        <td>- 1/ 6</td>\n",
    "        <td>+ 1 / 3</td>\n",
    "        <td>&#183;</td>\n",
    "        <td>&#183;</td>\n",
    "        <td>&#183;</td>\n",
    "        <td>1 / 6</td>\n",
    "      </tr>\n",
    "      <tr>\n",
    "        <td>0</td>\n",
    "        <td>+ 1 / 12</td>\n",
    "        <td>- 1 / 3</td>\n",
    "        <td>+ 1 / 4</td>\n",
    "        <td>&#183;</td>\n",
    "        <td>&#183;</td>\n",
    "        <td>0</td>\n",
    "      </tr>\n",
    "      <tr>\n",
    "        <td>0</td>\n",
    "        <td>- 1 / 20</td>\n",
    "        <td>+ 11 / 30</td>\n",
    "        <td>- 11 / 20</td>\n",
    "        <td>+ 1 / 5</td>\n",
    "        <td>&#183;</td>\n",
    "        <td>-1 / 30</td>\n",
    "      </tr>\n",
    "      <tr>\n",
    "        <td>0</td>\n",
    "        <td>+ 1 / 30</td>\n",
    "        <td>- 13 / 30</td>\n",
    "        <td>+ 11 / 10</td>\n",
    "        <td>- 13 / 15</td>\n",
    "        <td>+ 1 / 6</td>\n",
    "        <td>0</td>\n",
    "      </tr>\n",
    "    </tbody>\n",
    "  </table>"
   ]
  },
  {
   "cell_type": "code",
   "execution_count": 4,
   "metadata": {
    "collapsed": false
   },
   "outputs": [],
   "source": [
    "def eulberian(n, x):\n",
    "    return sum(\n",
    "        (-1)^k * x^(n - k) * E(n, k) / binomial(n, k) for k in range(n + 1)\n",
    "    ) / (n + 1)\n"
   ]
  },
  {
   "cell_type": "code",
   "execution_count": 5,
   "metadata": {
    "collapsed": false
   },
   "outputs": [
    {
     "data": {
      "image/png": "[encoded data removed]",
      "text/plain": [
       "Graphics object consisting of 7 graphics primitives"
      ]
     },
     "execution_count": 5,
     "metadata": {},
     "output_type": "execute_result"
    }
   ],
   "source": [
    "plot([eulberian(n, x) for n in range(3, 10)], (x, 0, 1))"
   ]
  },
  {
   "cell_type": "code",
   "execution_count": 6,
   "metadata": {
    "collapsed": false
   },
   "outputs": [
    {
     "name": "stdout",
     "output_type": "stream",
     "text": [
      "[1, 1/2, 1/6, 0, -1/30, 0, 1/42, 0, -1/30, 0, 5/66, 0, -691/2730]\n"
     ]
    }
   ],
   "source": [
    "def eb(n, x):\n",
    "    w = sum(E(n, k) * x^(k + 1) * (x - 1)^(n - k - 1) for k in range(n + 1))\n",
    "    return definite_integral(w, x, 0, 1)\n",
    "\n",
    "\n",
    "print([1] + [eb(n, x) for n in range(1, 13)])\n"
   ]
  },
  {
   "cell_type": "markdown",
   "metadata": {
    "collapsed": false
   },
   "source": [
    "<h2 style='color:#5E7AFF;margin-bottom:16px'>Formula <span style='color:orange'>4</span></h2>"
   ]
  },
  {
   "cell_type": "markdown",
   "metadata": {
    "collapsed": false
   },
   "source": [
    "<p style=\"color:brown;font-size:large\">See <a href=\"https://oeis.org/A356546\">A356546</a>. The numbers generate a triangle which is the counterpart of Leibniz's harmonic triangle <a href=\"https://oeis.org/A003506\">A003506</a>, which is generated when the falling factorial is used instead.</p>"
   ]
  },
  {
   "cell_type": "markdown",
   "metadata": {
    "collapsed": false
   },
   "source": [
    " $$ F(n,k) \\, = \\, \\frac{ (n+1)^{ \\overline{n} } }{ k! \\, (n-k)! },$$"
   ]
  },
  {
   "cell_type": "code",
   "execution_count": 7,
   "metadata": {
    "collapsed": false
   },
   "outputs": [
    {
     "name": "stdout",
     "output_type": "stream",
     "text": [
      "[1]\n",
      "[2, 2]\n",
      "[6, 12, 6]\n",
      "[20, 60, 60, 20]\n",
      "[70, 280, 420, 280, 70]\n",
      "[252, 1260, 2520, 2520, 1260, 252]\n",
      "[924, 5544, 13860, 18480, 13860, 5544, 924]\n",
      "[3432, 24024, 72072, 120120, 120120, 72072, 24024, 3432]\n",
      "[12870, 102960, 360360, 720720, 900900, 720720, 360360, 102960, 12870]\n"
     ]
    }
   ],
   "source": [
    "def F(n, k):\n",
    "    return rising_factorial(n + 1, n) // (factorial(k) * factorial(n - k))\n",
    "\n",
    "\n",
    "for n in range(9):\n",
    "    print([F(n, k) for k in range(n + 1)])\n"
   ]
  },
  {
   "cell_type": "markdown",
   "metadata": {
    "collapsed": false
   },
   "source": [
    "<h2 style='color:#5E7AFF;margin-bottom:16px'>Formula <span style='color:orange'>5</span></h2>"
   ]
  },
  {
   "cell_type": "markdown",
   "metadata": {
    "collapsed": false
   },
   "source": [
    "$$ \\frac{\\operatorname{B}_n}{\\operatorname{C}_n} \\, = \\, \\sum_{k=0}^{n} (-1)^{k} \\frac{E(n, k)}{F(n,k)},$$ \n",
    "\n",
    "<p style=\"color:brown;font-size:large\">where C<sub>n</sub> denote the Catalan numbers.\n",
    "A proof of this identity was given by Marko Riedel at <a href=\"https://math.stackexchange.com/questions/4512142\">MSE</a>.</p>"
   ]
  },
  {
   "cell_type": "code",
   "execution_count": 8,
   "metadata": {
    "collapsed": false
   },
   "outputs": [
    {
     "name": "stdout",
     "output_type": "stream",
     "text": [
      "[1, 1/2, 1/12, 0, -1/420, 0, 1/5544, 0, -1/42900, 0, 5/1108536, 0, -691/567872760]\n",
      "[1, 1/2, 1/12, 0, -1/420, 0, 1/5544, 0, -1/42900, 0, 5/1108536, 0, -691/567872760]\n"
     ]
    }
   ],
   "source": [
    "def catalan(n):\n",
    "    return binomial(2 * n, n) // (n + 1)\n",
    "\n",
    "\n",
    "def lhs(n):\n",
    "    return bernoulli_polynomial(1, n) / catalan(n)\n",
    "\n",
    "\n",
    "def rhs(n):\n",
    "    return sum((-1)^k * E(n, k) / F(n, k) for k in range(n + 1))\n",
    "\n",
    "\n",
    "print([lhs(n) for n in range(13)])\n",
    "print([rhs(n) for n in range(13)])\n"
   ]
  },
  {
   "cell_type": "markdown",
   "metadata": {
    "collapsed": false
   },
   "source": [
    "<h2 style='color:#5E7AFF;margin-bottom:16px'>Formula <span style='color:orange'>6</span></h2>\n",
    "\n",
    "<p style=\"color:brown;font-size:large\">The <em>Berling polynomials</em> are based on the Stirling set numbers.</p>"
   ]
  },
  {
   "cell_type": "markdown",
   "metadata": {
    "collapsed": false
   },
   "source": [
    "$$\\operatorname{\\sigma}_{n}(x) =  \\sum_{k=0}^{n}  \n",
    "\\frac{ (-1)^{n-k}} {k+1} \\left \\{ n\\atop k \\right \\} \\, k! \\, x^{k} \\quad(n \\ge 0).$$"
   ]
  },
  {
   "cell_type": "code",
   "execution_count": 9,
   "metadata": {
    "collapsed": false
   },
   "outputs": [
    {
     "name": "stdout",
     "output_type": "stream",
     "text": [
      "[1]\n",
      "[0, 1/2]\n",
      "[0, -1/2, 2/3]\n",
      "[0, 1/2, -2, 3/2]\n",
      "[0, -1/2, 14/3, -9, 24/5]\n",
      "[0, 1/2, -10, 75/2, -48, 20]\n",
      "[0, -1/2, 62/3, -135, 312, -300, 720/7]\n"
     ]
    }
   ],
   "source": [
    "def S(n, x):\n",
    "    return sum(\n",
    "        (-1)^(n - k) * stirling_number2(n, k) * factorial(k) * x^k / (k + 1)\n",
    "        for k in range(n + 1)\n",
    "    )\n",
    "\n",
    "\n",
    "for n in range(7):\n",
    "    print(S(n, x).list())\n"
   ]
  },
  {
   "cell_type": "markdown",
   "metadata": {
    "collapsed": false
   },
   "source": [
    "<h2 style='color:#5E7AFF;margin-bottom:16px'>Formula <span style='color:orange'>7</span></h2>\n",
    "<p style=\"color:brown;font-size:large\">Clausen numbers <a href=\"https://oeis.org/A160014\">A160014</a>.</p>"
   ]
  },
  {
   "cell_type": "markdown",
   "metadata": {
    "collapsed": false
   },
   "source": [
    "$$ \\operatorname{C}_{n} = \\prod_{ p\\, -\\, 1\\, |\\, n} p \\quad (p \\ \\, \\text{prime}) $$ "
   ]
  },
  {
   "cell_type": "code",
   "execution_count": 10,
   "metadata": {
    "collapsed": false
   },
   "outputs": [
    {
     "name": "stdout",
     "output_type": "stream",
     "text": [
      "[1, 2, 6, 2, 30, 2, 42, 2, 30, 2, 66, 2, 2730, 2, 6, 2]\n"
     ]
    }
   ],
   "source": [
    "def Clausen(n):\n",
    "    if n == 0: return 1\n",
    "    return product(filter(lambda s: is_prime(s), map(lambda i: i + 1, divisors(n))))\n",
    "\n",
    "\n",
    "print([Clausen(n) for n in range(16)])\n"
   ]
  },
  {
   "cell_type": "code",
   "execution_count": 11,
   "metadata": {
    "collapsed": false
   },
   "outputs": [
    {
     "name": "stdout",
     "output_type": "stream",
     "text": [
      "[1, 2, 6, 2, 30, 2, 42, 2, 30, 2, 66, 2, 2730, 2, 6, 2]\n"
     ]
    }
   ],
   "source": [
    "print([lcm([denominator(s) for s in S(n, x).list()]) for n in range(16)])\n"
   ]
  },
  {
   "cell_type": "markdown",
   "metadata": {
    "collapsed": false
   },
   "source": [
    "<h2 style='color:#5E7AFF;margin-bottom:16px'>Formula <span style='color:orange'>8</span></h2>\n",
    "\n",
    "<p style=\"color:brown;font-size:large\">Berling polynomials times Clausen numbers convert the rational polynomials to integer polynomials\n",
    "<a href=\"https://oeis.org/A194587\">A194587</a>.</p>"
   ]
  },
  {
   "cell_type": "code",
   "execution_count": 12,
   "metadata": {
    "collapsed": false
   },
   "outputs": [
    {
     "name": "stdout",
     "output_type": "stream",
     "text": [
      "[1]\n",
      "[0, 1]\n",
      "[0, -3, 4]\n",
      "[0, 1, -4, 3]\n",
      "[0, -15, 140, -270, 144]\n",
      "[0, 1, -20, 75, -96, 40]\n",
      "[0, -21, 868, -5670, 13104, -12600, 4320]\n"
     ]
    }
   ],
   "source": [
    "for n in range(7):\n",
    "    print([Clausen(n) * s for s in S(n, x).list()])\n"
   ]
  },
  {
   "cell_type": "markdown",
   "metadata": {
    "collapsed": false
   },
   "source": [
    "|x^0|x^1 |x^2 |x^3   |x^4   |x^5    |x^6  |\n",
    "|-  |-   |-   |-     |-     |-      |-    |\n",
    "|1  |.   |.   |.     |.     |.      |.    |\n",
    "|0  | 1  |.   |.     |.     |.      |.    |\n",
    "|0  | -3 | 4  |.     |.     |.      |.    |\n",
    "|0  | 1  | -4 | 3    |.     |.      |.    |\n",
    "|0  | -15| 140| -270 | 144  |.      |.    |\n",
    "|0  | 1  | -20| 75   | -96  | 40    | .   |\n",
    "|0  | -21| 868| -5670| 13104| -12600| 4320|"
   ]
  },
  {
   "cell_type": "markdown",
   "metadata": {
    "collapsed": false
   },
   "source": [
    "<p style=\"color:brown;font-size:large\">P.S.: If you like Eulerian numbers you might also want to have a look at this notebook: <a href='https://github.com/PeterLuschny/EulerianSecondOrderNumbers/blob/main/Eulerian2_A340556.ipynb'>EulerianSecondOrderNumbers</a>.</p>"
   ]
  },
  {
   "cell_type": "markdown",
   "metadata": {
    "collapsed": false
   },
   "source": [
    "<p style=\"color:brown;font-size:large\">~~~</p>"
   ]
  }
 ],
 "metadata": {
  "kernelspec": {
   "display_name": "SageMath 9.5",
   "language": "sage",
   "name": "sagemath",
   "resource_dir": "/ext/jupyter/kernels/sage-9.6"
  },
  "language_info": {
   "codemirror_mode": {
    "name": "ipython",
    "version": 3
   },
   "file_extension": ".py",
   "mimetype": "text/x-python",
   "name": "python",
   "nbconvert_exporter": "python",
   "pygments_lexer": "ipython3",
   "version": "3.10.4"
  },
  "vscode": {
   "interpreter": {
    "hash": "afb734500600fd355917ca529030176ea0ca205570884b88f2f6f7d791fd3fbe"
   }
  }
 },
 "nbformat": 4,
 "nbformat_minor": 4
}
